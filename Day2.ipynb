{
  "nbformat": 4,
  "nbformat_minor": 0,
  "metadata": {
    "colab": {
      "provenance": []
    },
    "kernelspec": {
      "name": "python3",
      "display_name": "Python 3"
    },
    "language_info": {
      "name": "python"
    }
  },
  "cells": [
    {
      "cell_type": "code",
      "execution_count": null,
      "metadata": {
        "colab": {
          "base_uri": "https://localhost:8080/"
        },
        "id": "__zP13FDzux6",
        "outputId": "47771cbc-acaf-4d10-c2a3-b2f60e91516b"
      },
      "outputs": [
        {
          "output_type": "stream",
          "name": "stdout",
          "text": [
            "['A X', 'B Y', 'B Y', 'C X', 'B X', 'C Z', 'C Z', 'A Z', 'A Z', 'B Y', 'C Z', 'A Z', 'C Z', 'C X', 'B Z', 'C Z', 'C Z', 'C Z', 'B Y', 'C Z', 'C Z', 'C Z', 'A Z', 'A Y', 'B Z', 'B Z', 'A Y', 'B X', 'C Z', 'C Z', 'A Z', 'A Z', 'C Z', 'A Y', 'A X', 'A Z', 'A Z', 'B X', 'B Z', 'B X', 'A Z', 'B X', 'B Z', 'B Z', 'C Z', 'A Z', 'A Z', 'A Z', 'C Z', 'B Z', 'A Z', 'A Y', 'A Y', 'B Y', 'B Y', 'B Z', 'A Z', 'B Z', 'A Z', 'B Z', 'C Z', 'B Y', 'A Z', 'B Y', 'A Z', 'A Z', 'A Z', 'C Z', 'A Y', 'A Z', 'C Z', 'C Z', 'A Z', 'A X', 'B Y', 'C Z', 'A Z', 'A Z', 'C X', 'C Z', 'B X', 'C X', 'B X', 'A Z', 'C Z', 'C Z', 'A Y', 'A Z', 'B X', 'C X', 'A Z', 'A Z', 'C Z', 'C Z', 'B Y', 'C Z', 'A Z', 'A Z', 'A Y', 'B X', 'B Y', 'A Z', 'C Z', 'A Z', 'A Z', 'A Z', 'C X', 'C Y', 'C Z', 'B X', 'B X', 'B X', 'A Z', 'A X', 'C Z', 'A Z', 'B Y', 'B X', 'A Y', 'B X', 'A Z', 'C Z', 'C Z', 'A X', 'A Z', 'C Z', 'B Z', 'B X', 'A Z', 'C Z', 'C Z', 'C X', 'C Z', 'C Z', 'C Z', 'A Y', 'B X', 'A Y', 'A Z', 'B Z', 'B Z', 'C Z', 'B Z', 'B Z', 'B X', 'A Z', 'C Z', 'A Z', 'A Y', 'C Z', 'A Z', 'C X', 'A Z', 'A Z', 'A Y', 'A Y', 'A Z', 'C Z', 'B Y', 'A X', 'A Z', 'A Y', 'C Z', 'A Z', 'B X', 'A Z', 'B Y', 'A X', 'C X', 'B X', 'A Y', 'A Z', 'B Z', 'A Z', 'A Z', 'B X', 'A X', 'C Z', 'B X', 'B Y', 'A Z', 'B X', 'C Z', 'A Z', 'C Z', 'B X', 'A Z', 'A Y', 'A Z', 'A Z', 'B X', 'B X', 'B Z', 'A Z', 'B Y', 'C Z', 'B Z', 'C Z', 'C Z', 'B X', 'B X', 'A Z', 'C Z', 'C Z', 'A X', 'B X', 'B X', 'A Y', 'C Z', 'A Z', 'A Y', 'B X', 'A Z', 'A Z', 'B X', 'A Z', 'C Z', 'B X', 'B Z', 'B Y', 'B X', 'A Y', 'C Z', 'C Z', 'C Z', 'A X', 'C Z', 'A Z', 'C Z', 'C Y', 'C Z', 'C Z', 'C Z', 'B X', 'A Z', 'B X', 'B Z', 'A Z', 'C Z', 'B Y', 'B Y', 'B Z', 'C Z', 'C Z', 'C Z', 'B Z', 'B Y', 'A Z', 'B X', 'B Z', 'C Z', 'A Z', 'B Y', 'B Y', 'A X', 'C Z', 'B Y', 'A Y', 'B Y', 'B X', 'B Y', 'B Y', 'A Y', 'B Y', 'C X', 'A Y', 'A Y', 'C Z', 'A Z', 'A Y', 'C Z', 'A Z', 'A Z', 'C Z', 'C Z', 'C Z', 'B X', 'B Y', 'A Y', 'A Y', 'B Z', 'A Z', 'B Y', 'B X', 'B Y', 'A Y', 'A Y', 'A Z', 'B Z', 'C Z', 'C Z', 'C Z', 'A Z', 'C Z', 'A Z', 'A Z', 'A Z', 'A Z', 'C Z', 'B Y', 'C Z', 'B X', 'C Z', 'A X', 'A Z', 'B X', 'C Y', 'C X', 'A X', 'A X', 'A Z', 'A Z', 'B X', 'A Y', 'B Z', 'A Z', 'B Z', 'A Z', 'C Z', 'C X', 'C Z', 'C Z', 'C X', 'C Z', 'C Z', 'C X', 'C Z', 'B Z', 'A Z', 'B Y', 'A Z', 'C Z', 'B X', 'C Z', 'B Z', 'B Y', 'A Z', 'B Y', 'A Y', 'B X', 'B Z', 'B Z', 'A Z', 'B Z', 'C Z', 'C Z', 'A Y', 'A Z', 'A X', 'A Y', 'C Z', 'B X', 'A Z', 'C X', 'A Z', 'A Z', 'A Z', 'A Z', 'C Y', 'B Y', 'B Y', 'A X', 'C Z', 'A X', 'A Z', 'A Y', 'C X', 'A Y', 'A Y', 'A Z', 'C X', 'C Z', 'B Z', 'B X', 'A Z', 'C Z', 'C Z', 'B Z', 'B X', 'C Z', 'C Z', 'A Y', 'B Z', 'A X', 'B Y', 'A Z', 'C X', 'B X', 'C Z', 'B Y', 'A X', 'A Z', 'B Y', 'A Y', 'A Z', 'B Z', 'A Y', 'B Y', 'A Z', 'B Y', 'B X', 'B Z', 'A Z', 'B Y', 'B Z', 'A Y', 'A Z', 'C Z', 'B X', 'C Z', 'B X', 'C Z', 'B Z', 'C Z', 'C Z', 'B Z', 'A Y', 'A Y', 'C Z', 'B Z', 'A Z', 'A X', 'C Z', 'A Z', 'C Z', 'A Z', 'A X', 'A Z', 'A Z', 'A Y', 'B Z', 'B X', 'C X', 'B Y', 'C Z', 'B X', 'B Z', 'B X', 'A Z', 'A Z', 'A Z', 'B Z', 'B Y', 'A Z', 'B Y', 'C Z', 'B Z', 'A Z', 'A Y', 'C Z', 'A Z', 'B Y', 'B X', 'B Y', 'B X', 'C Z', 'C Y', 'A Z', 'C Z', 'C Z', 'A Z', 'C X', 'B Z', 'A Y', 'B Y', 'B Y', 'B Y', 'C Z', 'B Z', 'A Z', 'B Y', 'A Z', 'A Z', 'C Z', 'B Y', 'B Y', 'A X', 'A Z', 'A Z', 'C Z', 'A Z', 'C Z', 'C Z', 'A X', 'B Z', 'A Z', 'A Z', 'C Z', 'C Z', 'B Y', 'B Y', 'A Z', 'A Y', 'A Z', 'B Y', 'B Z', 'A Y', 'B Z', 'A Z', 'A Z', 'A Y', 'C Z', 'A Y', 'C Z', 'B X', 'A Z', 'A Z', 'C Z', 'A Y', 'C Z', 'A Z', 'A Y', 'A Y', 'C Z', 'A Z', 'A Y', 'B X', 'A Y', 'B X', 'A Z', 'A Z', 'A Y', 'B Y', 'B Y', 'B X', 'C Z', 'C Z', 'B Y', 'B X', 'C Z', 'B Y', 'C Z', 'B Y', 'B X', 'C Z', 'A Y', 'B Z', 'C X', 'A Y', 'C Z', 'C Z', 'C X', 'A Y', 'A Z', 'B X', 'C Z', 'A Z', 'B Y', 'C Z', 'B X', 'B Z', 'C Z', 'C Z', 'C Z', 'A Z', 'B X', 'C Z', 'A Z', 'A Y', 'B Y', 'C Z', 'A X', 'C Z', 'A Y', 'C X', 'A Y', 'B Y', 'C Z', 'B X', 'A Z', 'C Z', 'C Z', 'B Z', 'B Y', 'A Z', 'A Z', 'A Y', 'C Z', 'A Y', 'A X', 'A Y', 'B Z', 'C Z', 'C Z', 'A Z', 'A Z', 'C Z', 'A Y', 'C Z', 'C Z', 'B Z', 'C Z', 'C Z', 'A Z', 'C Z', 'B Z', 'C Z', 'B X', 'A Y', 'A Y', 'A Z', 'C X', 'C Z', 'C Y', 'C Z', 'C Z', 'C Z', 'B Z', 'A Z', 'C Z', 'C Z', 'A Y', 'B Y', 'B X', 'B X', 'C Z', 'A Z', 'B Y', 'C Z', 'C Z', 'B X', 'C Z', 'C Z', 'A Y', 'A Y', 'A Z', 'A Y', 'B Y', 'C Z', 'A X', 'A Y', 'C Z', 'A Z', 'C Z', 'C Z', 'A X', 'A Z', 'C Z', 'B Z', 'A Z', 'A Z', 'B Y', 'B X', 'A Z', 'A Z', 'B Z', 'C Z', 'C Z', 'A Y', 'A Z', 'B Z', 'B Z', 'C Z', 'B Z', 'A Y', 'B X', 'A Z', 'B X', 'C Z', 'A Z', 'A Y', 'C Z', 'C Z', 'A Z', 'A Z', 'A Z', 'A Z', 'A Z', 'B X', 'C Z', 'C Z', 'C Z', 'A Z', 'A Z', 'A Z', 'A Z', 'B X', 'C Z', 'B X', 'C Z', 'A Z', 'C Z', 'A X', 'A Y', 'A Z', 'C Z', 'B Y', 'C Z', 'C Z', 'B Z', 'C Z', 'B X', 'C Z', 'B X', 'A Z', 'A Z', 'B Y', 'B X', 'C Z', 'C Z', 'C Z', 'C Y', 'C X', 'B Y', 'B Y', 'C Z', 'A Z', 'A Z', 'C Y', 'C Z', 'B Y', 'C X', 'A Z', 'B X', 'A Z', 'C Z', 'C Z', 'A Z', 'C X', 'A Z', 'B Z', 'B Y', 'A X', 'C Z', 'A Z', 'B X', 'A Z', 'B Y', 'C Z', 'B X', 'C Z', 'B Y', 'C Z', 'A X', 'C Z', 'A Z', 'C Z', 'A Y', 'A Y', 'C Z', 'C Z', 'B X', 'B Z', 'A Z', 'C Z', 'A Z', 'C Z', 'A Y', 'B X', 'C Z', 'A Z', 'B X', 'C Z', 'C Z', 'B Y', 'C Z', 'C Z', 'C Y', 'B Y', 'B X', 'C Z', 'B Y', 'A Z', 'A Z', 'B X', 'B Y', 'B Y', 'B Y', 'B Y', 'B Z', 'C Z', 'C Z', 'A Z', 'C Z', 'C X', 'C Z', 'B Z', 'C X', 'C X', 'A Z', 'A Z', 'B Y', 'B Z', 'B Y', 'C Z', 'A Y', 'A Z', 'B Y', 'B Y', 'B X', 'A Z', 'A Z', 'A Z', 'C Z', 'C Z', 'C Z', 'B Z', 'A X', 'A Z', 'A Y', 'C Z', 'A Z', 'A Z', 'B Z', 'B Y', 'B Y', 'A X', 'C Z', 'C Z', 'B X', 'A Z', 'B Y', 'A Z', 'B Z', 'A Z', 'C Z', 'C X', 'A Y', 'A Z', 'C Z', 'C Z', 'C Z', 'A Z', 'C Z', 'C Z', 'B Y', 'A Z', 'A Z', 'A Z', 'A Y', 'C Z', 'A Z', 'C Z', 'B Z', 'A Z', 'C Z', 'C X', 'B Z', 'C X', 'B X', 'C Z', 'B Z', 'A Y', 'C Z', 'C Z', 'B X', 'B Y', 'B Y', 'A Z', 'B X', 'A Y', 'A Y', 'A Z', 'B Z', 'C Z', 'C Z', 'B Z', 'A Z', 'C Z', 'B Y', 'C X', 'B Z', 'C Z', 'B Z', 'C Y', 'C Z', 'A Y', 'A Z', 'C Z', 'A Z', 'A Z', 'C Z', 'C Z', 'C Z', 'B Z', 'A Z', 'C Z', 'C X', 'A Z', 'A Z', 'B X', 'B Y', 'C Z', 'A Y', 'A Z', 'C Z', 'B Z', 'C Z', 'A Y', 'A Y', 'C Z', 'A Z', 'A Z', 'B X', 'A Y', 'B Y', 'C Z', 'C Z', 'B Y', 'A Z', 'A Y', 'C X', 'C Z', 'C Z', 'A Z', 'C Z', 'A Y', 'C Z', 'A Z', 'A Z', 'C Z', 'A Z', 'A X', 'C Z', 'C Z', 'A Z', 'B Z', 'B Z', 'B X', 'A Z', 'B X', 'A Y', 'A Z', 'C Z', 'C Z', 'A Y', 'B Z', 'C Z', 'A Z', 'A Z', 'C X', 'B Z', 'B Y', 'B Y', 'A Y', 'B X', 'B X', 'C Z', 'B X', 'A Z', 'B X', 'A Z', 'C Z', 'C Z', 'A Z', 'B Y', 'C Z', 'C X', 'C Z', 'C Z', 'A Z', 'B X', 'C Z', 'C Z', 'A Y', 'C Z', 'C Z', 'B X', 'B X', 'B X', 'A Z', 'B Y', 'C Z', 'A Z', 'C Z', 'C Z', 'B Y', 'C Z', 'A Z', 'C Z', 'B Y', 'B Z', 'C Z', 'C Z', 'C X', 'C Z', 'B Z', 'C Z', 'B Y', 'B X', 'A Z', 'A Y', 'B X', 'A Y', 'B Y', 'A Z', 'C Z', 'C Z', 'C Z', 'B X', 'C Z', 'B X', 'A Z', 'B X', 'B Y', 'A Z', 'C Z', 'C Z', 'C Z', 'A Y', 'B Y', 'A Y', 'C Z', 'A Z', 'C Z', 'C Z', 'A Z', 'A Y', 'C Z', 'B X', 'A Y', 'A Z', 'C Z', 'B Y', 'C Z', 'A Z', 'C Z', 'B Y', 'C Z', 'C Z', 'B Y', 'C Z', 'C Z', 'B X', 'C Z', 'B Y', 'C Z', 'B Y', 'A Z', 'C Z', 'B Y', 'A Z', 'C Z', 'C Z', 'B Y', 'B X', 'B Z', 'A Z', 'A Y', 'A Z', 'A Y', 'C Z', 'C Z', 'B X', 'C Z', 'B Y', 'C Z', 'C X', 'C Z', 'A Y', 'A Z', 'C Z', 'C Z', 'C Z', 'A Z', 'B Y', 'C Z', 'C Z', 'A Z', 'B Y', 'C Z', 'A Y', 'B Z', 'B X', 'A Y', 'B Y', 'C Z', 'A Y', 'C Z', 'B Y', 'B Y', 'C Z', 'C Z', 'B Y', 'B X', 'C Z', 'B X', 'B Z', 'B Y', 'C Z', 'C Z', 'C Z', 'A Z', 'A X', 'A Z', 'B Z', 'A Z', 'C Z', 'A Z', 'C Z', 'C Z', 'A Z', 'A Z', 'B Z', 'C Z', 'C Z', 'C Z', 'A Z', 'B Y', 'A Z', 'A Y', 'C Z', 'B X', 'B X', 'A Y', 'C Z', 'C Z', 'B X', 'B Z', 'C X', 'B X', 'B Y', 'A Z', 'A Y', 'A Z', 'C Z', 'B X', 'C Z', 'B Z', 'C Z', 'A Y', 'C Z', 'A Y', 'C Z', 'B Y', 'B Z', 'C Z', 'C Z', 'C Z', 'C Z', 'C Z', 'A Z', 'B Y', 'C Z', 'C X', 'B Y', 'C X', 'B Y', 'B Z', 'B Y', 'A Z', 'A Z', 'B X', 'C Y', 'A Z', 'C Z', 'B X', 'B X', 'A Z', 'A Z', 'B Y', 'C Z', 'B Y', 'B Z', 'A Y', 'A Z', 'C Z', 'C Z', 'B X', 'A Z', 'A Z', 'A Z', 'C Z', 'C X', 'C Z', 'C Z', 'C Z', 'C Z', 'A Z', 'B Y', 'C Z', 'C Z', 'C Z', 'B Z', 'C Z', 'B X', 'C Z', 'A Z', 'A Z', 'C Z', 'C Y', 'B Y', 'A Z', 'A Y', 'B Z', 'A Y', 'B Y', 'C Z', 'A Y', 'C Z', 'A Z', 'C Z', 'B X', 'C Z', 'A Z', 'A Z', 'B Z', 'A Z', 'B Z', 'A Z', 'B Y', 'C Z', 'B Z', 'B Y', 'C Z', 'A Z', 'A Z', 'B X', 'B X', 'A Y', 'A Z', 'B Y', 'A Y', 'A Z', 'C Z', 'A X', 'C Z', 'A Z', 'A Z', 'C Z', 'A Z', 'B X', 'A Z', 'A Y', 'A Y', 'B Y', 'A Z', 'A Z', 'A Z', 'B Y', 'B Y', 'A Z', 'A Z', 'C Z', 'C Z', 'A Y', 'B X', 'B X', 'C Z', 'A Y', 'C Z', 'C Z', 'C Z', 'A Y', 'C Z', 'C X', 'C Z', 'B Y', 'A Z', 'B Y', 'A Z', 'C Z', 'A Y', 'C Z', 'A Y', 'B Z', 'B X', 'B Y', 'B X', 'B Y', 'B X', 'A Y', 'C Z', 'C Z', 'B Z', 'C Z', 'C X', 'B X', 'A X', 'A Z', 'A Z', 'B Y', 'C Z', 'C Z', 'B Y', 'C Z', 'C Z', 'B Y', 'A Z', 'B Z', 'C X', 'C Z', 'C Z', 'B Y', 'C X', 'C Z', 'B Z', 'A Z', 'C Z', 'B X', 'A Z', 'C Z', 'A Z', 'C Z', 'B X', 'B Z', 'C Z', 'C Z', 'C Z', 'A Z', 'B Y', 'A Y', 'A Z', 'C Z', 'C Z', 'C Z', 'B Y', 'A Z', 'C Z', 'C Z', 'A Z', 'B Z', 'B Y', 'C Z', 'A Y', 'A Z', 'A Z', 'C Z', 'C Z', 'C Z', 'C Z', 'A Z', 'C Z', 'C Z', 'A Y', 'A Y', 'A Z', 'C Z', 'A Z', 'A Z', 'B X', 'A Y', 'A Z', 'A Y', 'C Z', 'B Z', 'A Y', 'A Z', 'B X', 'C Z', 'A Z', 'A Z', 'A Y', 'B Y', 'C Z', 'C Z', 'A Z', 'B X', 'A Y', 'A Z', 'C Z', 'C Z', 'B Y', 'C Z', 'A Z', 'B Y', 'C Z', 'C Z', 'B Y', 'C X', 'A Z', 'C Z', 'C Z', 'C Z', 'C Z', 'A Z', 'B Y', 'A Y', 'B Y', 'B Z', 'C Z', 'A Z', 'B Z', 'C Z', 'A X', 'C Z', 'C X', 'A Z', 'A Z', 'A X', 'A Z', 'A Z', 'A Z', 'A Z', 'B X', 'A Z', 'A Z', 'A Z', 'C Z', 'C Z', 'C Z', 'C Z', 'A Z', 'A Y', 'B X', 'C Z', 'B Y', 'A Y', 'A Z', 'C Z', 'C Z', 'C Z', 'B Y', 'A Z', 'B Z', 'C Z', 'B X', 'B Z', 'B Z', 'B Y', 'C Z', 'C X', 'B Y', 'A Y', 'C X', 'C Z', 'C Z', 'B Y', 'A Z', 'C Z', 'A Z', 'A Z', 'C Z', 'C Z', 'C Z', 'C Z', 'B Z', 'C Z', 'B X', 'C Z', 'B X', 'B Z', 'A Z', 'B Y', 'C Z', 'A Z', 'C Z', 'A Z', 'A Y', 'A Z', 'C Z', 'B X', 'C Z', 'C Z', 'A Z', 'A Z', 'C Z', 'C Z', 'A Z', 'C Z', 'A Y', 'C Z', 'C Z', 'A Z', 'A X', 'A Z', 'C Z', 'A Z', 'C Z', 'C Z', 'A Z', 'B X', 'C Z', 'C Z', 'C X', 'A Z', 'A Z', 'A X', 'B X', 'C Z', 'C Z', 'A Z', 'B X', 'C X', 'A Z', 'C Z', 'B Y', 'C Z', 'A Z', 'C Z', 'A Y', 'A Z', 'C Z', 'C Z', 'B X', 'A Z', 'B Y', 'A Z', 'C Z', 'C X', 'B Z', 'C Z', 'A X', 'A Y', 'C Z', 'C Z', 'C X', 'B Z', 'A Z', 'A Z', 'B Z', 'A Y', 'C X', 'A Z', 'C Z', 'A Z', 'C Z', 'A Z', 'A Z', 'A Z', 'C Z', 'A Z', 'C Z', 'B X', 'A Y', 'A Z', 'C Z', 'B Y', 'C Z', 'A Y', 'C Z', 'C Z', 'C Z', 'C Z', 'A Z', 'A Z', 'B Z', 'C Z', 'A Y', 'C X', 'C Z', 'C Y', 'B Y', 'C X', 'A Y', 'C Z', 'C Z', 'B Z', 'B Y', 'B Z', 'A Z', 'B Y', 'C Z', 'C Z', 'B X', 'B Y', 'B Z', 'A Z', 'A Z', 'C Z', 'B X', 'A Z', 'B Y', 'C Z', 'C Z', 'B X', 'C Z', 'A X', 'C Z', 'B X', 'A Y', 'A Z', 'B Y', 'C Z', 'C Z', 'A Y', 'A Z', 'C Z', 'C Z', 'A Z', 'C Z', 'C Z', 'C Z', 'B X', 'C Z', 'B Y', 'B Y', 'C Z', 'B Z', 'C Z', 'C X', 'C Z', 'B X', 'A Z', 'B Z', 'B Z', 'B Z', 'C Z', 'A X', 'C Z', 'B X', 'A Z', 'A Z', 'A Z', 'A Y', 'C Z', 'C Z', 'C Z', 'C X', 'A Y', 'A Z', 'A Z', 'C Z', 'C Z', 'A Z', 'B X', 'C Z', 'B Y', 'A X', 'C X', 'B Y', 'B Y', 'A Y', 'C X', 'C Z', 'B X', 'A Z', 'A Z', 'B Z', 'A Y', 'C Z', 'C Z', 'A Z', 'C Z', 'C Z', 'A Y', 'C Z', 'C Z', 'B Y', 'C Z', 'C Z', 'A Z', 'A Z', 'B Z', 'A Z', 'C Z', 'C Z', 'C Z', 'C X', 'C Z', 'A Z', 'C Z', 'C Z', 'C Z', 'C X', 'C Z', 'C Z', 'A Z', 'B Y', 'C Z', 'B X', 'A Z', 'C Z', 'C Y', 'A Z', 'A Y', 'A Z', 'C X', 'C X', 'A Y', 'B X', 'A Y', 'B Y', 'B Z', 'B Y', 'B Y', 'B Y', 'B Y', 'B Y', 'B Y', 'B Y', 'B X', 'B Z', 'A Y', 'A Y', 'A Y', 'B Y', 'A Y', 'B X', 'C X', 'A Z', 'C Z', 'A Z', 'A X', 'C Z', 'C Z', 'B Z', 'C Z', 'B Z', 'B Z', 'A Z', 'A Y', 'A Z', 'B X', 'B Z', 'C Y', 'A Z', 'A Z', 'A Z', 'C Z', 'C Z', 'C Z', 'C Z', 'A Z', 'C Y', 'A Y', 'C X', 'C Z', 'B Y', 'C Z', 'A Z', 'A X', 'A Z', 'B Z', 'C Z', 'B X', 'B X', 'A Z', 'C Z', 'B X', 'C Z', 'C Z', 'A X', 'C Z', 'A Z', 'C Z', 'C Z', 'B Z', 'B Y', 'B X', 'B Z', 'A X', 'A Y', 'C Z', 'A X', 'A Y', 'B Y', 'A Y', 'C Z', 'C Z', 'B X', 'C Z', 'B Z', 'C Z', 'B Y', 'C Z', 'A Z', 'A Y', 'B Z', 'B Z', 'A Z', 'A Z', 'A Z', 'A Y', 'C Z', 'C X', 'A Z', 'A X', 'B Y', 'B X', 'A Z', 'C Z', 'A Z', 'A Z', 'C Z', 'B Z', 'B Z', 'B Y', 'B Y', 'A Y', 'C Z', 'A Z', 'A Z', 'C Z', 'A Z', 'C Z', 'C Z', 'B X', 'B Y', 'C Z', 'C Z', 'B X', 'C X', 'C Z', 'A Y', 'C X', 'B X', 'A Z', 'A Z', 'A Y', 'B Y', 'A Z', 'B Z', 'C Z', 'C Z', 'A Z', 'B X', 'A X', 'B Y', 'A Z', 'B Z', 'A Z', 'B Y', 'C Z', 'A Z', 'A Y', 'C Z', 'A Y', 'C Z', 'C Z', 'A Z', 'C Z', 'C Z', 'A Z', 'A Y', 'C Z', 'A Z', 'B Z', 'A Y', 'A Z', 'C Z', 'C Z', 'A Y', 'C Z', 'A Y', 'A Z', 'C X', 'B X', 'B Z', 'B Z', 'B Z', 'B Z', 'B Y', 'B X', 'A Z', 'C Z', 'B Z', 'C Z', 'C Z', 'C X', 'A Z', 'A Z', 'B X', 'C Z', 'A Y', 'C Z', 'B Z', 'A Z', 'C X', 'C Z', 'C Z', 'B Y', 'C Z', 'B Z', 'A Z', 'A X', 'C Z', 'B X', 'A Z', 'B Y', 'C Y', 'C X', 'C Z', 'A Z', 'B Z', 'A Z', 'B Y', 'C Z', 'C Z', 'A Z', 'C Z', 'C Z', 'C Z', 'C Z', 'B Z', 'C Z', 'B X', 'B Y', 'A Z', 'B Y', 'B Y', 'A Z', 'C Z', 'C Z', 'B Y', 'B Y', 'B Y', 'B Y', 'B Z', 'B X', 'A Z', 'B Y', 'B X', 'A Z', 'A Y', 'B X', 'B X', 'C Z', 'C X', 'B Y', 'C Z', 'C Z', 'A Z', 'C X', 'C Z', 'A Z', 'B Y', 'A Z', 'A Z', 'A X', 'C Z', 'B Y', 'A Z', 'C Z', 'C Z', 'A Z', 'B Y', 'B Y', 'B Z', 'B Z', 'B X', 'A X', 'A Z', 'A Z', 'C X', 'B Y', 'A Y', 'B Z', 'A Z', 'B Y', 'C Z', 'C Z', 'B X', 'C Z', 'C Z', 'A Z', 'C Z', 'A Z', 'A Z', 'C Z', 'C Z', 'C Z', 'B X', 'B Z', 'A Y', 'B X', 'C Z', 'A Z', 'C Z', 'A Y', 'B Y', 'A X', 'C Z', 'A Y', 'A Z', 'A Z', 'A Z', 'B Z', 'C Z', 'C Z', 'C Z', 'C Z', 'C Z', 'B Z', 'B X', 'C Z', 'A Z', 'C Z', 'A X', 'B Z', 'C Z', 'C Z', 'A Z', 'A Z', 'B Y', 'C Z', 'A Z', 'C Z', 'B Y', 'A Z', 'A Y', 'A Y', 'C X', 'C Z', 'A Z', 'B Y', 'C Z', 'C X', 'C Z', 'A Y', 'A Z', 'A Z', 'B X', 'C Z', 'B X', 'B Y', 'A Y', 'A Y', 'B Z', 'A Y', 'A Z', 'B Z', 'A Z', 'A X', 'B Z', 'C Z', 'C X', 'C Z', 'C Z', 'C Z', 'C Z', 'C X', 'C Z', 'A Z', 'A Z', 'B X', 'A Z', 'A Z', 'A Z', 'C Z', 'A Z', 'C Y', 'B Y', 'B Y', 'C Z', 'A Y', 'B Z', 'C Z', 'C Z', 'C Z', 'A Z', 'C Z', 'A Z', 'B Z', 'B Y', 'A Y', 'C Z', 'A Z', 'A Y', 'C Z', 'C Z', 'A Y', 'B Y', 'C Z', 'A Z', 'A Y', 'A Z', 'B X', 'C X', 'C Z', 'C Z', 'A Y', 'A Z', 'B X', 'C Z', 'A Z', 'C Z', 'C Z', 'A Z', 'C Z', 'B X', 'A Z', 'A Z', 'B Y', 'C Z', 'B X', 'C Z', 'C X', 'A Z', 'B X', 'C X', 'C Z', 'C Z', 'A Z', 'B Y', 'A Y', 'C Z', 'B Z', 'B Y', 'C X', 'B X', 'C Z', 'C Y', 'A Z', 'A Z', 'C Z', 'B X', 'A Z', 'C Z', 'B Y', 'B X', 'B Z', 'B X', 'A Y', 'C Z', 'C Z', 'C Y', 'A Z', 'A Y', 'C Z', 'B X', 'A Z', 'A Z', 'B Z', 'B Z', 'B X', 'A Y', 'A Z', 'C Z', 'A Z', 'A X', 'A Y', 'C Z', 'C Z', 'B Y', 'A Z', 'C Z', 'B Z', 'A Z', 'B Y', 'C Z', 'B Y', 'A Z', 'B Z', 'A Z', 'B Y', 'B Z', 'C Z', 'C Z', 'A Y', 'C Z', 'A Z', 'B X', 'C Z', 'B X', 'B X', 'A Z', 'C Z', 'B Z', 'A Z', 'C Z', 'C Z', 'C Z', 'C Z', 'A Z', 'C Z', 'B Z', 'C Z', 'A Z', 'B X', 'C Z', 'A Z', 'C Z', 'C Z', 'A Y', 'A Y', 'C Z', 'A Y', 'A X', 'C Z', 'A Z', 'A Z', 'B Z', 'A Z', 'A X', 'C Z', 'B Y', 'A Y', 'B Y', 'A Y', 'C Z', 'C Z', 'B X', 'A Z', 'B X', 'B Z', 'B Z', 'A Y', 'C X', 'A Y', 'C Z', 'B Y', 'A Z', 'A Z', 'C Z', 'A Z', 'A Z', 'B Y', 'C X', 'B X', 'A Z', 'A X', 'C Z', 'A Z', 'B Y', 'A Z', 'C Z', 'C Z', 'A Z', 'B X', 'B Z', 'A X', 'A Y', 'A Y', 'B Y', 'B Z', 'B X', 'B Z', 'C X', 'B Z', 'C Z', 'C Z', 'B X', 'B Y', 'B X', 'B Z', 'B Z', 'C Z', 'A Z', 'A X', 'B X', 'C Z', 'A Z', 'B Y', 'B Y', 'C X', 'A Z', 'B X', 'A X', 'C Z', 'B Y', 'A Y', 'B Y', 'A Y', 'B Z', 'C Z', 'C Z', 'C Z', 'B Y', 'B Y', 'A Y', 'C Z', 'C Y', 'B Z', 'A Z', 'C Z', 'C Y', 'B X', 'B X', 'A Z', 'B Y', 'A Z', 'B X', 'A Z', 'B Y', 'B Y', 'C Z', 'C Z', 'A Z', 'B Y', 'C Z', 'C Y', 'C Z', 'C Z', 'A Y', 'B X', 'C Y', 'A Y', 'B X', 'C Z', 'C Z', 'C Z', 'B Z', 'B Y', 'A Z', 'A Y', 'A Z', 'C Z', 'C Z', 'B Y', 'C Z', 'C Z', 'A Z', 'B Z', 'C Z', 'A Z', 'A Z', 'A Z', 'A Y', 'C X', 'B Y', 'B Y', 'A Y', 'C Z', 'B Y', 'B X', 'B Z', 'C Z', 'C Z', 'A Y', 'A Z', 'A Z', 'B Z', 'C Z', 'C Z', 'B Y', 'C Z', 'A Z', 'C Z', 'C Z', 'C X', 'B X', 'B Y', 'C Z', 'A Z', 'A Y', 'C Z', 'C Z', 'C Z', 'A Z', 'A Y', 'C Z', 'A Z', 'A Y', 'A Y', 'C Z', 'B X', 'C Z', 'C X', 'B Y', 'A Z', 'B Y', 'C Z', 'B X', 'A Z', 'A Y', 'C Z', 'A Z', 'C Z', 'A Z', 'C Z', 'C Z', 'A Y', 'A Z', 'A Z', 'B Z', 'A Z', 'A Z', 'C Z', 'A X', 'A Y', 'C X', 'A Z', 'A Z', 'B Z', 'B Y', 'A Z', 'C Z', 'B Z', 'C Z', 'A Z', 'C Z', 'B X', 'C Z', 'B Z', 'B Z', 'C Z', 'B Z', 'A Z', 'A Z', 'C Z', 'A Z', 'C X', 'C Z', 'A Y', 'A Z', 'A X', 'A Z', 'B Z', 'B Z', 'C Z', 'C X', 'A Y', 'C Z', 'A Z', 'A Z', 'A X', 'C Z', 'C Z', 'C X', 'B Z', 'B X', 'B Z', 'B Y', 'C Z', 'A Z', 'A Y', 'A Y', 'B X', 'A Y', 'A Y', 'C Z', 'C Z', 'B Z', 'A Z', 'B Z', 'C Z', 'A Z', 'B Y', 'B Y', 'C Z', 'A Z', 'C Z', 'A Z', 'B Y', 'A Z', 'C Z', 'B X', 'C Z', 'A Z', 'C Z', 'A Y', 'B Y', 'A Y', 'B Z', 'A Y', 'C Z', 'A Z', 'C Z', 'B X', 'B X', 'B Y', 'B X', 'C Z', 'A X', 'B Y', 'B Z', 'C Z', 'A Y', 'C Z', 'B Z', 'C Z', 'A Z', 'C X', 'C Z', 'A Z', 'A Y', 'C Z', 'C Z', 'B Y', 'C Z', 'B Y', 'C Z', 'C Z', 'B Z', 'A Z', 'C Z', 'B Y', 'B X', 'A Z', 'C Z', 'C Z', 'A Z', 'C Z', 'C Z', 'B Y', 'A Z', 'B X', 'C Z', 'B Y', 'B X', 'A Z', 'C Z', 'A Z', 'C Z', 'A Z', 'C Z', 'B Y', 'C Z', 'A Z', 'B X', 'C Z', 'A Y', 'A Y', 'A Z', 'A Y', 'A Z', 'A X', 'C Z', 'B X', 'B Z', 'C Z', 'A Z', 'C X', 'A Z', 'A Z', 'A Z', 'C Z', 'A Z', 'C Z']\n"
          ]
        }
      ],
      "source": [
        "with open(\"day2.txt\") as file:\n",
        "  lines=[line.rstrip('\\n') for line in file]\n",
        "  print(lines)"
      ]
    },
    {
      "cell_type": "code",
      "source": [
        "#Part1\n",
        "dict = {\n",
        "    \"A X\":4, \"A Y\":8, \"A Z\":3, \n",
        "    \"B X\":1, \"B Y\":5, \"B Z\":9, \n",
        "    \"C X\":7, \"C Y\":2, \"C Z\":6 \n",
        "}\n",
        "sum=0\n",
        "for line in lines:\n",
        "  sum+=dict[line]\n",
        "print(sum)"
      ],
      "metadata": {
        "colab": {
          "base_uri": "https://localhost:8080/"
        },
        "id": "m7EEAeKJ0-mA",
        "outputId": "c6922b5b-9166-479b-ddfd-72b5a9a1f2d8"
      },
      "execution_count": null,
      "outputs": [
        {
          "output_type": "stream",
          "name": "stdout",
          "text": [
            "12794\n"
          ]
        }
      ]
    },
    {
      "cell_type": "code",
      "source": [
        "#Part2\n",
        "dict2= {\n",
        "    \"A X\":3, \"A Y\":4, \"A Z\":8, \n",
        "    \"B X\":1, \"B Y\":5, \"B Z\":9, \n",
        "    \"C X\":2, \"C Y\":6, \"C Z\":7 \n",
        "}\n",
        "sum2=0\n",
        "for line in lines:\n",
        "  sum2+=dict2[line]\n",
        "print(sum2)"
      ],
      "metadata": {
        "colab": {
          "base_uri": "https://localhost:8080/"
        },
        "id": "ibar9lIF2RP7",
        "outputId": "9c494443-b06f-45f5-96d2-776ec86c9872"
      },
      "execution_count": null,
      "outputs": [
        {
          "output_type": "stream",
          "name": "stdout",
          "text": [
            "14979\n"
          ]
        }
      ]
    }
  ]
}