{
  "nbformat": 4,
  "nbformat_minor": 0,
  "metadata": {
    "colab": {
      "provenance": []
    },
    "kernelspec": {
      "name": "python3",
      "display_name": "Python 3"
    },
    "language_info": {
      "name": "python"
    }
  },
  "cells": [
    {
      "cell_type": "code",
      "source": [
        "from copy import deepcopy\n",
        "with open(\"day5.txt\") as file:\n",
        "  lines=[line.rstrip('\\n') for line in file]\n",
        "\n",
        "matrix = [\n",
        "    [],\n",
        "    ['C','S','G','B'],\n",
        "    ['G','V','N','J','H','W','M','T'],\n",
        "    ['S','Q','M'],\n",
        "    ['M','N','W','T','L','S','B'],\n",
        "    ['P','W','G','V','T','F','Z','J'],\n",
        "    ['S','H','Q','G','B','T','C'],\n",
        "    ['W','B','P','J','T'],\n",
        "    ['M','Q','T','F','Z','C','D','G'],\n",
        "    ['F','P','B','H','S','N']\n",
        "    ]\n",
        "\n",
        "for line in lines:\n",
        "  x=line.split()\n",
        "  amount=int(x[1])\n",
        "  frm=int(x[3])\n",
        "  to=int(x[5])\n",
        "  for i in range(amount):\n",
        "    items_moved=matrix[frm][:1]\n",
        "    matrix[frm]=matrix[frm][1:]\n",
        "    matrix[to] = items_moved+matrix[to]\n",
        "    \n",
        "\n",
        "print(''.join([s[0] for s in matrix if len(s)>0]))"
      ],
      "metadata": {
        "colab": {
          "base_uri": "https://localhost:8080/"
        },
        "id": "r8nxvZpNRoal",
        "outputId": "73f77d85-07ef-4498-bb74-d32042ea4b47"
      },
      "execution_count": 75,
      "outputs": [
        {
          "output_type": "stream",
          "name": "stdout",
          "text": [
            "CFFHVVHNC\n"
          ]
        }
      ]
    },
    {
      "cell_type": "code",
      "execution_count": 65,
      "metadata": {
        "colab": {
          "base_uri": "https://localhost:8080/"
        },
        "id": "NfA82lL3-jNu",
        "outputId": "8c29f21c-9870-44e0-c7c5-cd285e1db251"
      },
      "outputs": [
        {
          "output_type": "stream",
          "name": "stdout",
          "text": [
            "FSZWBPTBG\n"
          ]
        }
      ],
      "source": [
        "from copy import deepcopy\n",
        "with open(\"day5.txt\") as file:\n",
        "  lines=[line.rstrip('\\n') for line in file]\n",
        "\n",
        "matrix = [\n",
        "    [],\n",
        "    ['C','S','G','B'],\n",
        "    ['G','V','N','J','H','W','M','T'],\n",
        "    ['S','Q','M'],\n",
        "    ['M','N','W','T','L','S','B'],\n",
        "    ['P','W','G','V','T','F','Z','J'],\n",
        "    ['S','H','Q','G','B','T','C'],\n",
        "    ['W','B','P','J','T'],\n",
        "    ['M','Q','T','F','Z','C','D','G'],\n",
        "    ['F','P','B','H','S','N']\n",
        "    ]\n",
        "\n",
        "for line in lines:\n",
        "  x=line.split()\n",
        "  amount=int(x[1])\n",
        "  frm=int(x[3])\n",
        "  to=int(x[5])\n",
        "  items_moved=matrix[frm][:amount]\n",
        "  matrix[frm]=matrix[frm][amount:]\n",
        "  matrix[to] = items_moved+matrix[to]\n",
        "\n",
        "print(''.join([s[0] for s in matrix if len(s)>0]))"
      ]
    }
  ]
}