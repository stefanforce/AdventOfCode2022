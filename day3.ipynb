{
  "nbformat": 4,
  "nbformat_minor": 0,
  "metadata": {
    "colab": {
      "provenance": []
    },
    "kernelspec": {
      "name": "python3",
      "display_name": "Python 3"
    },
    "language_info": {
      "name": "python"
    }
  },
  "cells": [
    {
      "cell_type": "code",
      "execution_count": 29,
      "metadata": {
        "colab": {
          "base_uri": "https://localhost:8080/"
        },
        "id": "pYBttwyu0PYn",
        "outputId": "20108868-e588-42dd-bb2a-b2150528325f"
      },
      "outputs": [
        {
          "output_type": "stream",
          "name": "stdout",
          "text": [
            "['dtddvvhwttHJhwdhJPddhwJGppmGjgpQgTjQplQpTljwpg', 'BfzSzRSVVMVNRMDDNBSNSnfBmbrglGQbmNpQggFjpgpbQlQb', 'ZSBffLnVZdCCPJjhhL', 'RGCZpWWWFlHQQbgvFssg', 'jLnMzjnrnjjNjhrjdwbHscsVVgDVQPvPwh', 'nfJnLMLzjJMtnjNnnBbZtBWBqqbTTTBRpT', 'nddlhBtqTBqTVSlBtmCmVcRVmZggfWbcZc', 'jDjvPrPSNPwrDNRWbbgWCjRRCcWm', 'DzDwSpFrvrvFPQLzQnsqztBthTJnGJqlsJ', 'gssGmzwgRgsNmTsqgDnDJnbDHHhhzFdDDh', 'WQVFjMWrVQrVvVVjVctSSLSMZhnJZPBnbdnhbnHZZBDJBh', 'VCtcccVQLrfvrSlGmfTfNgfmlFgm', 'DsmfsBbNNZhDWsbmWmNbbPDHLFjcctjjGcnZGzncnctcGH', 'SwVQJrjVwpgSVRpjpVRrlTMCFFCLCFFcHzzGMcHrtHHH', 'ppVwTwSwpwvSlSlJTjVVbPhsvvBssWsNfsqWPvWs', 'BJwqwJtqqDDDrGDnPFzPFfpphD', 'TgZscCHQLSHgZcfMzpjFFjzsshfj', 'LcNlTVQCCVLLZTLNvpRtpvBBvRJmNB', 'bDBGQBBCTTNPGPPwPzcHfVHrDtLWLVrWVjjHWr', 'gpssqqsqlMFfLZQWftjVpr', 'lvqqFMRlFcQvbzCNCG', 'fhhMDdPhWMJMWvhhSfwRSGlzFbSFNlzw', 'LcqTCqcgZqjTggVjcwbFRwbDBTzbRGRwTS', 'cHLpZgnCHpQsDdsmQp', 'jwStJjJhtgJStpgwJMggQWqQTNTfNTWfbNNMCCNG', 'zRZnFPRZPVncPGVFRlRmGHCTqfCCPCHHfLfbTQCbTq', 'lnVmFZRZDnRVBFZcrZlhjpggvppthGhphpwprS', 'lcttSptHHllQbMcsrltSQGpvNBzpgWBBBDDGWzvgLz', 'PdjPVRFhFqFjRRCjzvRWnWLBLgbBBLzg', 'hhCCFbPTmjPdhZjhPhZCmTjjMsrJSfHrcmHJrHHmlcJSsmft', 'WhWnLZSSnSzQQhfLLNSfmDHrCFDDHtpjGGtTGQCG', 'gJbJBcMVwJlRRdbwvwJBVtjdtHHTmptpHTCtTFrFCp', 'JwwgvRMJlvJwgqgvqRMcnWWhLPzzsqfnZWnfWWnj', 'zdwTSvzHMvVSzDCtZhtGmbTGhm', 'lcBHfFjjgtsmDCgshD', 'cJPBnqNFnLfHJFPqljclqJzQvSSVWvSnMwvSzSWWdMWM', 'pNJMcZrsZDLDcbcccMpQffHqvgdwdFFmdmqwvqmgmzsw', 'hhnWjTTStRCGSMgvvgvdqvdFjvVz', 'hCTSWhPGttTCGBWMRlTCMSnPBDJpbDfDpNpbbNJfJDJbpJpN', 'lbcQcSNFchhQNqHLLqhLqrMpqM', 'WfsnsszPWfBBVpHdprrpdnGL', 'WTzWfwjtTBzwwBDzmfSSQmmbFZcpQNcbZZbv', 'PwSJSlmtPPgwgmHhPPvRvGHLRLQRBQGCQVGb', 'rnsFDnnfGGRWQRnW', 'dfTTfTFdfrfFFFzQFPJPSSlhqtllNPzgwS', 'MMbTFZrcrGZMDqNStWScDtzS', 'dvWmhQggQvCnfnqPqDnDjnfP', 'lgvdvLClWCQlgdhlrMBBHpGlwbHHGH', 'CQHgQpPdCQpsCpzRwSVRSzRZwZ', 'JbNBbcbrJvbJnqVznwwTzrzz', 'wNbfLvvfDNNBHPFLhddFsQss', 'VVzqvwzpqvzqNVVHGNqjHpNfSQDWdWwJdPWrWccdQrWrrDdd', 'nLcbtBRtBhcnWSJQlJSgll', 'tFbLLLRRhMtsBMtRCRsLCMBVjjvHTNjHHjzcvFFppGHzTT', 'QCPrPWNPlWjGGZqGmvdPGd', 'JgpHpSfphhfpVmBSgnTvdtddGvZVdvddDv', 'LhphBfHpSwSwfHcMgfpmBWWWbsNCjFWsljNbbjlLjb', 'QJmQbRmdfmdSQRQZSJltTltNvTrtDtrlftDD', 'wpZcHVwwMgBpWMVgWpHLphztDvvGvDPlnGvDLlNrDPnNPl', 'McgWFWHHHzVpMgZQFqbjsdjqqRCq', 'JPhLFfMJDLQnjNCvWWpdjjdM', 'crSwnwVnwSRBcNBNjjWCdC', 'GlbTGbsSzrtbmbfhnJQP', 'fDLSWVDRHHfVWHgPcZlDlZbbQhBcZQbb', 'jrmFmprTpFztmddjdjrpvBQlQZGhQbTsQbGcQbcbQs', 'nvqdpmjFnwpLSWlfnVNnWl', 'nZBRbBJzznNNCnJZwnBSCJMcpcTpcwhcqhmsmWMwFWLL', 'jQfvjgtfvPlHHqWpvWThpWqWch', 'VljjjgjQjrTDlDgrHtVCbnJZzNzNbnRNNJZrJR', 'MQtJnttlMLlJQsNhQrVVrFVWRRbbVFdJDD', 'vGjvzmjzgHqSjjSzmSGHTWbfDFWrbFzFfdDVrfRWDb', 'qPRqvTSPggqGgHCmllnCNLtnhcnnsnnw', 'zrlZsQMFrsgQFMMjMCbjVDCTCW', 'NqHNRdBppcJJcTpdmRfHThpdDWDtvbWVtbLjWbttWqqCCbLt', 'mhJpJHTJmBhcJhwhgwzsQwSSlzQQzGlZ', 'TvsszlvnzRRVTqzVrqrjjZGPfQPFqPqG', 'mcNhDNchppWmWSNhdSmSCQNjPFjrfGjrgPFCrgFPgPgrLf', 'SDddWpdMWSwNDmMNwlJRQwJlsVRRvzlsHt', 'DTtggjsFFFTlPJhvctBqBqSRmSMBSRnmnRcm', 'fGfwZdrbHVLdbGdHHwwQGVwBBCMMfvCNRNSMMMSRBmmRCN', 'dGZzGHGVVbvHvHwbzpGbHLrwFDDFTtsglhFspgJshslTDJjT', 'CbzspssWwCPcvvplrfqfDCJrDqdllB', 'LjttnjNTNGgQQJdBrffTwB', 'nVtLSgggjFwtMczhvzpZbSZW', 'HCzCHHvWthWFHhssWCVmnqZrnqVrmrmgnbrqmN', 'wPPGBjQQGwGbSlSLwgnpnrBZnBBmnMNnMN', 'jTTbJlJjPPLPGHHTthhhHcFWTT', 'qRdvvPDrCpzPHzcdrrcRqtbJJgjhgtWjJgbWJtgCFb', 'GTwGwNscLllGTZmGSTZGlSBMnhggjbgtgbtbsgWFFMhbMF', 'ZSQBSmlmzcrdQRqz', 'cSpTRphwwghRfgSScqPpnDqDCjDjJJJJDvDLCvvn', 'BVmmQFQBQVNBVmsWlbQFGBBlCHTJznzHLHvvCnjjNLHJDLHD', 'MFsZZMbBGblbQTmQsFsQMMfPcPcwSpwtStgPphZtctPc', 'QZbbZBdjPBjbQQbZnSSltlfwWvlvwNtNjwFMMN', 'DLVqTJqpSVtfsptwfWpv', 'rcRRVVTSbPQBPrBZ', 'tjSgSjLFSnVjDWRsQj', 'lcdqhfFpqZGpZqznrVRWPrnWRVBsVG', 'FHddNNNHwTHMHvvS', 'qCSDSQlwBHNbgJrHnLJH', 'GRpRpRfnmRWWVWgVrF', 'jhdZjpnvGfTZZQPlCtqQQSsS', 'FMZSGWWBrZjMBZMrBWMGjjZDnCRqpgPnbRwPbFnvvqFnDR', 'QHcpfVVslfdVlQclcctqRgqgbsCwbCwPCCCPwD', 'NLHfLhclmmhdfNNpfQMBmZWBrJMmZWBzMrjj', 'pBMpRgBMQwzRthmzLC', 'HPcJvrvDbjvrFDcvWrHfHfWHmdddtdTLztmtdtfllmNdNhNz', 'DvPFDvnPJLngQsggMGGQ', 'BbcFHvbhhDbbTSvZmwwgJPPlDlZldd', 'prCrNLMNgWWJBdrJ', 'fQMLCfLLtpqsNNMnnfBhcBSVGbhhhcqVbcjc', 'ZchcZZjmmNpgmJtgmM', 'RLrHllWrQZQGlBpbGFGFFM', 'RQnLHrqPLnZHzqjfVPcvVTfCvPTC', 'fMtwjfMwrbjfGrtrpPGrwpNNVNVqcbdVqHZTFNbcHSNL', 'mgzvDnJmnJhFJHSTNqZLHncHLS', 'vRzhzslJFhRffPPQMjGtGl', 'VMMNjWppQVwzNWrZdrrtMCMZCtMT', 'ngDScLcvPPgDPDGhGDPGSHVbHTHmZtTSrBHZbZBmBb', 'LhlglLghnVlplswJjs', 'bGJQZZTQQLJJbQZlTZLjCGQTsDhWFhmshhvjWVFVVrgtDsst', 'NScqwHcwwnnzBwqPqqsmVNhgsDDVtsghrFFg', 'pcrcwnpcffrcBzfbCRLpRLMMRlRLQl', 'hzCzCzpRgCzzzCctNsNWNqsZqZhPqNPb', 'TdBwmdrrrDmvwTvqNsSRssPlsWsq', 'FDBRRHDMTmBfmrmngnpjGgVptMgLCp', 'ZPLLnSPMFGvFZMSvHhDhqHfqvfqbDW', 'GgcppCgBcrQBBgplrVddhDqqqfdHgWdfqb', 'CcCjQszmGBQjrcCwCmCccPwPTPnMPTnMJSMMRZSPJL', 'LcVVcqqSHRLzRnCfNnGzNW', 'LZPPdljlCggMjgNM', 'PTvwlPtwtlJvZTQvbcHppFLHVVTcFssF', 'fpWzvzNgWJBVfBJzWzBVJNzWbZcbHhlbthjlrrPrjZZPHZhJ', 'hRDmGCFDwQnStncrjnccHcMP', 'GmmsGRmFTsFwSCsRQDsCSqqpfvfgzddWggvqdpfBWzVh', 'wjRBFljJGDFwwlGGpBSjGDtwTVtTgHHHsHHsVTVzsHqq', 'CPLNPdbWvbMWbcmvPNdLVqtsHqgCqHChZhhsVsHt', 'PWcPfPvmvNQbbWdWpJjJBDptGnDFjftn', 'mFFmJpDMmmnJFjWDVclsSpcflSsQwSsc', 'HrjNNjHNfVwLNSSl', 'tdZbhjHZHPbdCTvbbhhrGbbHMFmRMvnRRFmmvJMDmgJDJMnq', 'szJZhshbsfZJjbttchPctdTnWnRWVWMMnBdLRpMnBz', 'SrNwvDSwrCmnVRvjpWLBBn', 'ggGmgNFrgSDwmNgrCmtPsZPsjQGsqPcsqqJP', 'gjSWSjJSWrWzppzW', 'MCMzHNGNqHfscsFtrtwscVcr', 'qGHNGNHLCnLmTCHfMMmNTzzldzgJlJZZgJljgTdD', 'QGTQtQzTmdTsGTLcdFTGzdtBBjtwvBBJDvDMHJgjJvww', 'lPlqsZWnDJjZvZgV', 'ShCfCRnWGFsRRRrF', 'lwGtndCrrmGCwdmhzQrBzrHvLVggPgHv', 'fjMjDZJqSDJfJqDNDjJffjZLHPHHFvVFzHBLgLFpFpBSgL', 'MsTZWRNZfJZZqMGVGhhlhhccRnhC', 'MMvncqvcHcSnsdzzgvdfQjpljpQVTdDQDRTRlVpQ', 'wLCrNtBFFHHThRlH', 'bPJtHmCWssqgGPvq', 'LvTLsmDWvTWqTsmqjRTmjwgdwgnMHMMFgdtHmBmFVn', 'rlSCJzCSfpGGlhznQdnwFhtHgBFwtV', 'SGZJJSSrVfCbGJLjPsWbvjRsPTqR', 'pNqVVDCMVMBpqJVdMNHrccGHrtNtTFFFrQ', 'hwmllWbvvbnPvbSvtrFhhJzzHztcTztT', 'WSnbnPbbbvlWlRvnsqqMgLRMjLgVLCJdRV', 'GphVTGVMtQwtJmtCJP', 'FRRsBBsFqRNZNNrgqBdRfCZvbmPgmQzJQPnmJbJmQPJPPmwj', 'RNqsFrRfZZsZWvNqWRFvrBZvWhhCGVplhlWTlTpSCLpMhWMD', 'RZRjgbZHjjhsSnRsZstDRStsTVpFhBqFphMqPPpTFQVMPFTM', 'zrcGJwNNdwJrfNdJWvGdJzdTlTFlqTVPFTVFPPBpqNTbBP', 'WwLdLGfrRLStCZbD', 'mrmTqJWTvDDppTDb', 'DGzBfCzNDzdMwnLlbn', 'FVZPFZFFZPgjmWZsDtsq', 'TpnFTnFRCgRgldMRnDnRcrcdbdPBHbtPqbVcccrH', 'WNWLfQQmfhhSNwmrcbSVqPtbZDZcPb', 'LQhwLQvQvNfJhJRDMGFRlCMDMD', 'vLFTDmjVvLgnNHPphN', 'lMClGCmsRdCnPzCccngCpz', 'dlGZwRsRrRwswGsdSbbZSbVDrVBmDWWWFJrTrFvFTmqV', 'SGsZRqGLWLLtZRHRRcLHGTlJjzgJpjzTpNTNJNWpTm', 'MPMPvFFvFBrPPDPMQMPChjgpNpSNTmmmpNlTDljlTz', 'vnhrvMvnhSRqqLqnfn', 'mGFrlBmFQNQFljhqqqqbmHMsTPRbWWCsLMWRsb', 'wnwtvpwVzDVpvzzwZppnctMLtMPWWCstTsWTsTLffRRW', 'vwDJgZnvZJFqgLBFGqgl', 'QdGltnWNWqTdqQWvWsMJcrTcFcrgshJRMs', 'BzPLCDPzzzzCCLLfCBzfSDmLMrDJMglrcRbbhRsFhMrRJcsM', 'fjSzwwHfSzPzfCVBHlpdjGnZqnZptqQWjGvG', 'VbJZbgVzvzmhQpQWpQzhDp', 'tHPPcGcFBlCctCGtGcBBNlDLMGfMLwWfwwqMLLJwQWwp', 'dCHTPTPJdTBFPdrZjgsjrjnmdgms', 'JJpBvJQBZVvcFqqnsWdWvjsn', 'DCfbDbTtbgfCSHqqNdFMPhPDFnPPDWsPjM', 'bTmzTNCTNmfqTgJQcpLrpZLzVlVL', 'dtTLntTjzTftnmwnqGGQHNmm', 'SWbShCPMBgBRRFSFtRZZmm', 'DlJPCJCgPWhttzpvdjcpVl', 'WdzsNvWMzNsMHWddWCVffqmSmScLPvLPgLgLPplrrPmL', 'BtnzbnBhbwttwtZlmmlgcwSrLgmmpm', 'bFhQtbGBTnjBBbjTtFBbVDzddDDfjdDDqNWVjWHj', 'ppmtpgLLZLCbMQvQQThdtrvPhV', 'BBlHBwHRjHqBzzbHHqjjQdDQTDhPQDvnQlrQDQvr', 'HGjFzwHNczbzRFcGzHGFSJSpspsmpssMLLSZCppmfs', 'MpGrMMMcTsHMVHcvbwwmmcRSmDmDmv', 'zCNptqCBQQLCNLCzbfvSvbSzSDRDSmSv', 'CNNqNgNQJNgQtCqLlllZdZhTrThsnHpVVssPTsGP', 'jhSGcShDrLcLLFcw', 'MVzQvQNZVLHvHPdhLW', 'qzhhQlVbgqjmSjJDsgmR', 'CFzSPCgcsVVzFgzSCsBJwjdwJtNllnwglJlp', 'QrvbqWvvLbmvDMMmbdwFWpNNwwwwptjJWn', 'RZRZZqvvvDbDHCRTGchHFSGG', 'SszgPSPPVltDlqtz', 'WfTdTBdQdFnWBBBhBhNjVJtpNsVlDDDHHJWp', 'hQhrLFsBwdQPggbRgPwRMg', 'frRppMMDMpDnJfprnZhrrhpzWgvvGCvvFzWFvzvVVWFGJB', 'TcmLwTsccqwqbPwsdwqdTPSvBvzzztvggVvQCGWQCLBvCv', 'sswNjscwmqjwSssjdZNMfHHlHhfrnrgnfR', 'JpBJBdmdzZzzpngmbCnlqnNbNM', 'MMTHGccLTLvwRMlRnnQnbblnRnSs', 'vVGtvMcjLVGHfHDrPPWZppBpJpfZZZ', 'FGJtlttPdPtGFldlPRGpJTVzSBSSggHgJjVmBMHjJm', 'rhbvqrQLrWqrWLLfqbjjgNmVNSgzTmNgNS', 'hsffZQqnqCfZzlPPGlRlcwDs', 'HDDdZpcFwHFRFcZqDctpRDHpwTCVwjrBTQTBLBLBJJBjjQTJ', 'ldlMzhlPshPbLrrVrQQCMQjB', 'glzNfWlvbHqSdNNNcF', 'jZCMtnZZHCZwBWMwCwtMmfPFfvHDvzHFLPmFDfvh', 'RcrQdRRdGTzGvDGmfgjh', 'TsQscdQsQNTNqQQpRrRVCCBMMJJWMMVNVjnNJM', 'zVPWhVzLzWBWHZnlqBllqlpRbGNdffscGNdbDRnNSfcG', 'MtvSFQQwMcpsGRNGFR', 'vvTwJJSgmCSMmjVPPJWWhzllWLVV', 'RjdfnJfmbVvVJVFQcs', 'rZDZGBBZVvLZLHFW', 'qPzTDPlVrjNgfCdmPd', 'bcjmQPrnbmVmsLVrLrjmcHGRWlZHHRwHpZRHWWwH', 'nFhqzFqJzDJfvfSFqFfGHWZZHGRJRWHZWdpWwZ', 'hBCtDSSFCTqCCFzSnzMrLNmrMNPTNMQPMmNL', 'qvNBSJVDJGGVSJbVDDVhDbbqPjpWpWzWrnpWvvWPMjnWnpWz', 'mlTltwcwMWTPfNTN', 'CtCwFmCgmcmlRFmFCtRCHgmDJsbBhVqsbBHVDbNHDHJqqb', 'csBFBsLrBGBWcgLcBvRgpRhbwRwlbQwbwQgD', 'DCqmDmtTRtRlhdlh', 'qnCmTNPmmCnSSzmzNzGLzLccGDBzGrBLvvcW', 'FjfBjHnHzPFwhvFFqh', 'bjRpGsNsPqQvPclb', 'NWGGWGrrZVZjsCLmDMMgzgrSnzSm', 'MDgmmsNCmZMWmHCZLrvnLBBjPLVlPVbW', 'zcJGQwJdFRnrBVzqzvPr', 'hTQwhJwcfTFddFdGSfcRQQGFsggsgsHHnSmgsgsmgCnHNZpC', 'BPfwzfsgsvfszvBRbQpttRVpJbJpVg', 'LhTmHLbmbcFTFrWCbFqhFHLHVRpVtQpZVVDVprnDMJtJQnVZ', 'TGWWbTFFGTqlHhqhSdNdNfNSldjjBfjv', 'zCzpWTccHlWcPzMljMttbJfjmlfm', 'DqqQVZZqVsqJnbbnmjbJJQ', 'ZRmDZsSgVmGLsVqsLDFvrcccHrcTWCgWHBCHcCWp', 'cvGlQMtQlPtQWWMlcGsrFwFdbgdbdGGDCDCwdd', 'VChVZNBVjTTfhNTFgzrzrJgSdzgzwf', 'THThZTqZRHZRqNVZNTVLjRCMmQsntQctMnsPmMmMcWtLMQ', 'pNRHrbNlNnRLNpMMMTrcGcGTcccz', 'ZttBmsJmZdjsvTTvvdBMjDhfMGWGDfDfcScjfD', 'CmtTtwvtCsgllNHPPFbLpC', 'NpQcvwwRHvdfRvQsNfBQNvfRhVmVMqsZMmMshjMMtWZtMmrm', 'CGHbSSzFLSSHzTnbLnCWMrtWMtjnZMhZrqZtqW', 'FzCPPzLbPgFJbHSPldNRpgNfvvccgvwf', 'nSjpnnhNchMQZMSScnshshncJCGwHGClwmHPZlJPTVZCwHJf', 'LvtzBTgLWgLPlPwHPLPJ', 'dTBDqRqFzzhQFhshhNhM', 'HjjdPsjnllHsbnnDnbTBzLBFBZLLpRFRcCHRFz', 'wqqWwQhQQMCQffqqhtwMGhpZFRRZvzWzFvBvpvmcRvZm', 'fGfghtNhthqJrQqMqMMSgDdbPjbssDbdSnjCdd', 'cqPwJJnnffBFqSfJFnDDPVplLdglGgLVjzGLdVSzVt', 'WHRTWNHsQTNbzsbCbTsvWrWtjlgVdLgLdvdgvmLjpGlgtm', 'ZMQrTbNHZNsHHrQCZrNDFzhwnMJcfnDhJPPPFh', 'LRCFbjNjbCZDmtmqmRRmLtFJBgWBBpvJMwBJvGjBBvMBgw', 'TTrlfHzccVllZhdQgdGMJWvgWgBndwpG', 'fVSshSVlsfslhsSHHSZtZZNmNFmtmbFCDF', 'SPGCBPDMtbcbCtchSMccDTTrrrTFTrsrMTWHTHFVWF', 'JmnzqVmmwwfpJpmdHRTRsdsTrFdrQp', 'LqwLgzJgnjqLwgGcVbtjDGjcVbhv', 'PQcMvrvMsvmdSPPVccmSJcSpGBWWWbBHfWWnfttJWnWJpJ', 'wDzqhjzmqRzDRwqDzNDbWtjWBBBtGbtHpHnnBf', 'zglRhDqqDZgRNmZQVCdcCPQvvdZv', 'RpVjRgvFjGBNWtBWFDtt', 'dcqQwlqMMsCLLfbgQmtD', 'snlgzsggTzSTSJTr', 'dLHhDdtlMngFcFsFLFzzsj', 'vWRGGRVrrWvvGQQJBRsmQzmsqnffqcNfNcfz', 'vSRVJBVBwTvWTnHphTgDgtMpDl', 'bvvGnnJbfPmfdgJJSVtwwCpTScVfNpSC', 'sjsZWDqBqqMRZsDjbWMVwtwNNcNtScRHpRRttp', 'hzhDqqWDzZzDZzZLQPJPdPnPvlrbGdlnFQ', 'PwWHTwzFvNHsNzmmMwzNWGQrCqCFjpZbpnGqrqnpbr', 'gRVRgJRJlDLSJddDccQVrtZnCqjndnrZdnqnqpdq', 'chhgSSJfQhRRcSSSSBLVfzmzHTNzMNsTNWHMMvMP', 'lftqSpBSvhlDBDlhBSczQGmcFMcMVVFMmGFWsm', 'rHLHTNdggsLLnwLHbTTgdrTMPPmMGWZGQQMzQVQFZQGM', 'gbJnrHHjnbrgLrRrHpBJvSBDDsfJsDtstq', 'dBTtFLTtVmpdLhMprSRSWMRSMR', 'QvJvQbjbCgCQRBhzzRsNWNBC', 'bjgGqQGbQnjGQgnQgbGgjJnDLHLdfPVtdDmLZdBFVVZttdTf']\n"
          ]
        }
      ],
      "source": [
        "with open(\"day3.txt\") as file:\n",
        "  lines=[line.rstrip('\\n') for line in file]\n",
        "print(lines)"
      ]
    },
    {
      "cell_type": "code",
      "source": [
        "s=0\n",
        "for line in lines:\n",
        "  c1=line[:len(line)//2]\n",
        "  c2=line[len(line)//2:]\n",
        "  for char in c1:\n",
        "    if char in c2:\n",
        "      if char.islower():\n",
        "        s+=ord(char)-ord('a')+1\n",
        "      elif char.isupper():\n",
        "        s+=ord(char)-ord('A')+27\n",
        "      break\n",
        "\n",
        "print(s)\n",
        "\n"
      ],
      "metadata": {
        "colab": {
          "base_uri": "https://localhost:8080/"
        },
        "id": "-SWe3AVd3o4t",
        "outputId": "e58d8b1d-7e91-464f-ecee-bd9d356d3af9"
      },
      "execution_count": 28,
      "outputs": [
        {
          "output_type": "stream",
          "name": "stdout",
          "text": [
            "7848\n"
          ]
        }
      ]
    },
    {
      "cell_type": "code",
      "source": [
        "s=0\n",
        "for group_start in range(0,len(lines),3):\n",
        "  group_finish=group_start+3\n",
        "  groups = lines[group_start:group_finish] \n",
        "\n",
        "  for char in groups[0]:\n",
        "    if char in groups[1] and char in groups[2]:\n",
        "      if char.islower():\n",
        "        s+=ord(char)-ord('a')+1\n",
        "      elif char.isupper():\n",
        "        s+=ord(char)-ord('A')+27\n",
        "      break\n",
        "\n",
        "print(s)\n",
        "\n",
        "\n",
        "  "
      ],
      "metadata": {
        "colab": {
          "base_uri": "https://localhost:8080/"
        },
        "id": "85s5rdn58OVn",
        "outputId": "7cd66f34-2e39-4960-d600-d02faf58a1f5"
      },
      "execution_count": 32,
      "outputs": [
        {
          "output_type": "stream",
          "name": "stdout",
          "text": [
            "2616\n"
          ]
        }
      ]
    }
  ]
}